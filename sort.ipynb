{
 "cells": [
  {
   "cell_type": "markdown",
   "id": "d6e6af25",
   "metadata": {},
   "source": [
    "## Merge Sort"
   ]
  },
  {
   "cell_type": "code",
   "execution_count": null,
   "id": "0083aa56",
   "metadata": {},
   "outputs": [],
   "source": [
    "def merge(arr1, arr2):\n",
    "    final = []\n",
    "    N, M = len(arr1), len(arr2)\n",
    "    i, j = 0,0\n",
    "    while i < N and j < M:\n",
    "        if arr1[i] < arr2[j]: \n",
    "            final.append(arr1[i])\n",
    "            i+=1\n",
    "        else:\n",
    "            final.append(arr2[j])\n",
    "            j+=1\n",
    "    final.extend(arr1[i:])\n",
    "    final.extend(arr2[j:])\n",
    "    return final\n",
    "        \n",
    "def merge_sort(arr):\n",
    "    \"\"\"\n",
    "    Works on Divide and Conquer Approach\n",
    "    Recursively divide the array\n",
    "    Base case: single element is left, which is considered sorted\n",
    "    Once you have two sorted arrays, compare element-wise and merge\n",
    "    \"\"\"\n",
    "    if len(arr) == 1: return arr\n",
    "    mid = len(arr) // 2\n",
    "    left_arr = merge_sort(arr[:mid])\n",
    "    right_arr = merge_sort(arr[mid:])\n",
    "    return merge(left_arr,right_arr)"
   ]
  },
  {
   "cell_type": "code",
   "execution_count": 9,
   "id": "c6242758",
   "metadata": {},
   "outputs": [
    {
     "data": {
      "text/plain": [
       "[2, 3, 4, 5, 7]"
      ]
     },
     "execution_count": 9,
     "metadata": {},
     "output_type": "execute_result"
    }
   ],
   "source": [
    "arr = [3,5,2,4,7]\n",
    "merge_sort(arr)"
   ]
  },
  {
   "cell_type": "markdown",
   "id": "26eebecb",
   "metadata": {},
   "source": [
    "## Insertion Sort"
   ]
  },
  {
   "cell_type": "code",
   "execution_count": 34,
   "id": "c22c85d3",
   "metadata": {},
   "outputs": [],
   "source": [
    "def insertion_sort(arr):\n",
    "    \"\"\"\n",
    "    Takes a pivot element and compares all elements to its left\n",
    "    shift pivot element to the left as long as the pivot element is smaller\n",
    "\n",
    "    Args:\n",
    "        arr (List): input array to be sorted\n",
    "    \"\"\"\n",
    "    for j in range(1,len(arr)):\n",
    "        pivot = arr[j]\n",
    "        i = j-1\n",
    "        while i >= 0 and pivot < arr[i]:\n",
    "            arr[i+1] = arr[i]\n",
    "            i -= 1\n",
    "        arr[i+1] = pivot\n",
    "    return arr\n",
    "            \n"
   ]
  },
  {
   "cell_type": "code",
   "execution_count": null,
   "id": "f54734a6",
   "metadata": {},
   "outputs": [
    {
     "data": {
      "text/plain": [
       "[1, 2, 3, 4, 7]"
      ]
     },
     "execution_count": 35,
     "metadata": {},
     "output_type": "execute_result"
    }
   ],
   "source": [
    "arr = [2,3,5,4,7,1]\n",
    "insertion_sort(arr)"
   ]
  },
  {
   "cell_type": "code",
   "execution_count": null,
   "id": "e4a10780",
   "metadata": {},
   "outputs": [],
   "source": []
  }
 ],
 "metadata": {
  "kernelspec": {
   "display_name": "mle",
   "language": "python",
   "name": "python3"
  },
  "language_info": {
   "codemirror_mode": {
    "name": "ipython",
    "version": 3
   },
   "file_extension": ".py",
   "mimetype": "text/x-python",
   "name": "python",
   "nbconvert_exporter": "python",
   "pygments_lexer": "ipython3",
   "version": "3.11.8"
  }
 },
 "nbformat": 4,
 "nbformat_minor": 5
}
